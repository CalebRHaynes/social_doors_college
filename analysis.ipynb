{
 "cells": [
  {
   "cell_type": "code",
   "execution_count": 1,
   "metadata": {},
   "outputs": [],
   "source": [
    "%matplotlib inline\n",
    "from os.path import join as opj\n",
    "import json\n",
    "from nipype.interfaces.spm import Level1Design, EstimateModel, EstimateContrast\n",
    "from nipype.algorithms.modelgen import SpecifySPMModel\n",
    "from nipype.interfaces.utility import Function, IdentityInterface\n",
    "from nipype.interfaces.io import SelectFiles, DataSink\n",
    "from nipype import Workflow, Node\n",
    "import glob\n",
    "import nipype.interfaces.io as nio\n",
    "import nipype.interfaces.fsl as fsl\n",
    "import nipype.interfaces.utility as util\n",
    "import nipype.pipeline.engine as pe\n",
    "import nipype.algorithms.modelgen as model"
   ]
  },
  {
   "cell_type": "code",
   "execution_count": 2,
   "metadata": {},
   "outputs": [],
   "source": [
    "experiment_dir = 'mydataset/output/'\n",
    "output_dir = 'mydataset/datasink/'\n",
    "working_dir = 'mydataset/'\n",
    "\n",
    "# list of subject identifiers\n",
    "subject_list = [i[13:] for i in glob.glob('fmriprep/sub-*/')]\n",
    "\n",
    "# TR of functional images\n",
    "with open('/data/projects/STUDIES/social_doors_college/bids/sub-3836/func/sub-3836_task-srDoorsa_run-01_bold.json', 'rt') as fp:\n",
    "    task_info = json.load(fp)\n",
    "TR = task_info['RepetitionTime']\n",
    "\n",
    "# Smoothing withds used during preprocessing\n",
    "fwhm = [6]"
   ]
  },
  {
   "cell_type": "code",
   "execution_count": 3,
   "metadata": {},
   "outputs": [],
   "source": [
    "modelfit = pe.Workflow(name='modelfit')"
   ]
  },
  {
   "cell_type": "code",
   "execution_count": 4,
   "metadata": {},
   "outputs": [],
   "source": [
    "modelspec = pe.Node(interface=model.SpecifyModel(), name='modelspec')"
   ]
  },
  {
   "cell_type": "code",
   "execution_count": 5,
   "metadata": {},
   "outputs": [],
   "source": [
    "level1design = pe.Node(interface=fsl.Level1Design(), name='level1design')"
   ]
  },
  {
   "cell_type": "code",
   "execution_count": 6,
   "metadata": {},
   "outputs": [],
   "source": [
    "modelgen = pe.MapNode(\n",
    "    interface=fsl.FEATModel(),\n",
    "    name='modelgen',\n",
    "    iterfield=['fsf_file','ev_files'])"
   ]
  },
  {
   "cell_type": "code",
   "execution_count": 7,
   "metadata": {},
   "outputs": [],
   "source": [
    "modelestimate = pe.MapNode(\n",
    "    interface=fsl.FILMGLS(smooth_autocorr=True, mask_size=5, threshold=1000),\n",
    "    name='modelestimate',\n",
    "    iterfield=['design_file', 'in_file'])"
   ]
  },
  {
   "cell_type": "code",
   "execution_count": 9,
   "metadata": {},
   "outputs": [],
   "source": [
    "conestimate = pe.MapNode(\n",
    "    interface=fsl.ContrastMgr(),\n",
    "    name='conestimate',\n",
    "    iterfield=[\n",
    "        'tcon_file', 'param_estimates', 'sigmasquareds', 'corrections',\n",
    "        'dof_file'\n",
    "    ])\n",
    "\n",
    "modelfit.connect([\n",
    "    (modelspec, level1design, [('session_info', 'session_info')]),\n",
    "    (level1design, modelgen, [('fsf_files', 'fsf_file'), ('ev_files',\n",
    "                                                          'ev_files')]),\n",
    "    (modelgen, modelestimate, [('design_file', 'design_file')]),\n",
    "    (modelgen, conestimate, [('con_file', 'tcon_file')]),\n",
    "    (modelestimate, conestimate,\n",
    "     [('param_estimates', 'param_estimates'), ('sigmasquareds',\n",
    "                                               'sigmasquareds'),\n",
    "                                      ('dof_file', 'dof_file')]),\n",
    "])"
   ]
  },
  {
   "cell_type": "code",
   "execution_count": 10,
   "metadata": {},
   "outputs": [],
   "source": [
    "fixed_fx = pe.Workflow(name='fixedfx')"
   ]
  },
  {
   "cell_type": "code",
   "execution_count": 11,
   "metadata": {},
   "outputs": [],
   "source": [
    "copemerge = pe.MapNode(\n",
    "    interface=fsl.Merge(dimension='t'),\n",
    "    iterfield=['in_files'],\n",
    "    name=\"copemerge\")\n",
    "\n",
    "varcopemerge = pe.MapNode(\n",
    "    interface=fsl.Merge(dimension='t'),\n",
    "    iterfield=['in_files'],\n",
    "    name=\"varcopemerge\")"
   ]
  },
  {
   "cell_type": "code",
   "execution_count": 12,
   "metadata": {},
   "outputs": [],
   "source": [
    "level2model = pe.Node(interface=fsl.L2Model(), name='l2model')"
   ]
  },
  {
   "cell_type": "code",
   "execution_count": 13,
   "metadata": {},
   "outputs": [],
   "source": [
    "flameo = pe.MapNode(\n",
    "    interface=fsl.FLAMEO(run_mode='fe'),\n",
    "    name=\"flameo\",\n",
    "    iterfield=['cope_file', 'var_cope_file'])\n",
    "\n",
    "fixed_fx.connect([\n",
    "    (copemerge, flameo, [('merged_file', 'cope_file')]),\n",
    "    (varcopemerge, flameo, [('merged_file', 'var_cope_file')]),\n",
    "    (level2model, flameo, [('design_mat', 'design_file'),\n",
    "                           ('design_con', 't_con_file'), ('design_grp',\n",
    "                                                          'cov_split_file')]),\n",
    "])"
   ]
  },
  {
   "cell_type": "code",
   "execution_count": 20,
   "metadata": {},
   "outputs": [],
   "source": [
    "def sort_copes(files):\n",
    "    numelements = len(files[0])\n",
    "    outfiles = []\n",
    "    for i in range(numelements):\n",
    "        outfiles.insert(i, [])\n",
    "        for j, elements in enumerate(files):\n",
    "            outfiles[i].append(elements[i])\n",
    "    return outfiles\n",
    "\n",
    "\n",
    "def num_copes(files):\n",
    "    return len(files)\n",
    "\n",
    "\n",
    "firstlevel = pe.Workflow(name='firstlevel')\n"
   ]
  },
  {
   "cell_type": "code",
   "execution_count": null,
   "metadata": {},
   "outputs": [],
   "source": []
  }
 ],
 "metadata": {
  "kernelspec": {
   "display_name": "Python 3",
   "language": "python",
   "name": "python3"
  },
  "language_info": {
   "codemirror_mode": {
    "name": "ipython",
    "version": 3
   },
   "file_extension": ".py",
   "mimetype": "text/x-python",
   "name": "python",
   "nbconvert_exporter": "python",
   "pygments_lexer": "ipython3",
   "version": "3.6.9"
  }
 },
 "nbformat": 4,
 "nbformat_minor": 2
}
